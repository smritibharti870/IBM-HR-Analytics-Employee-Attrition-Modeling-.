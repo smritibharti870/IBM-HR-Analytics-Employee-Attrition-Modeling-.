{
 "cells": [
  {
   "cell_type": "markdown",
   "id": "85939a1d",
   "metadata": {},
   "source": [
    "# IBM HR Analytics Employee Attrition Modeling .\n",
    "\n",
    "### DESCRIPTION\n",
    "\n",
    "IBM is an American MNC operating in around 170 countries with major business vertical as computing, software, and hardware.\n",
    "Attrition is a major risk to service-providing organizations where trained and experienced people are the assets of the company. The organization would like to identify the factors which influence the attrition of employees.\n",
    "\n",
    "### Data Dictionary\n",
    "\n",
    "    Age: Age of employee\n",
    "    Attrition: Employee attrition status\n",
    "    Department: Department of work\n",
    "    DistanceFromHome\n",
    "    Education: 1-Below College; 2- College; 3-Bachelor; 4-Master; 5-Doctor;\n",
    "    EducationField\n",
    "    EnvironmentSatisfaction: 1-Low; 2-Medium; 3-High; 4-Very High;\n",
    "    JobSatisfaction: 1-Low; 2-Medium; 3-High; 4-Very High;\n",
    "    MaritalStatus\n",
    "    MonthlyIncome\n",
    "    NumCompaniesWorked: Number of companies worked prior to IBM\n",
    "    WorkLifeBalance: 1-Bad; 2-Good; 3-Better; 4-Best;\n",
    "    YearsAtCompany: Current years of service in IBM\n",
    "\n",
    "### Analysis Task:\n",
    "\n",
    "- Import attrition dataset and import libraries such as pandas, matplotlib.pyplot, numpy, and seaborn.\n",
    "\n",
    "### - Exploratory data analysis\n",
    "\n",
    "    Find the age distribution of employees in IBM\n",
    "    Explore attrition by age\n",
    "    Explore data for Left employees\n",
    "    Find out the distribution of employees by the education field\n",
    "    Give a bar chart for the number of married and unmarried employees\n",
    "- Build up a logistic regression model to predict which employees are likely to attrite.\n",
    "\n",
    "\n"
   ]
  },
  {
   "cell_type": "code",
   "execution_count": null,
   "id": "853e3a38",
   "metadata": {},
   "outputs": [],
   "source": []
  },
  {
   "cell_type": "code",
   "execution_count": 13,
   "id": "88706c77",
   "metadata": {},
   "outputs": [],
   "source": [
    "import pandas as pd\n",
    "import numpy as np\n",
    "import seaborn as sns\n",
    "import matplotlib.pyplot as plt\n",
    "import sklearn\n",
    "%matplotlib inline"
   ]
  },
  {
   "cell_type": "code",
   "execution_count": 22,
   "id": "634c2f2c",
   "metadata": {},
   "outputs": [
    {
     "data": {
      "text/html": [
       "<div>\n",
       "<style scoped>\n",
       "    .dataframe tbody tr th:only-of-type {\n",
       "        vertical-align: middle;\n",
       "    }\n",
       "\n",
       "    .dataframe tbody tr th {\n",
       "        vertical-align: top;\n",
       "    }\n",
       "\n",
       "    .dataframe thead th {\n",
       "        text-align: right;\n",
       "    }\n",
       "</style>\n",
       "<table border=\"1\" class=\"dataframe\">\n",
       "  <thead>\n",
       "    <tr style=\"text-align: right;\">\n",
       "      <th></th>\n",
       "      <th>Age</th>\n",
       "      <th>Attrition</th>\n",
       "      <th>Department</th>\n",
       "      <th>DistanceFromHome</th>\n",
       "      <th>Education</th>\n",
       "      <th>EducationField</th>\n",
       "      <th>EnvironmentSatisfaction</th>\n",
       "      <th>JobSatisfaction</th>\n",
       "      <th>MaritalStatus</th>\n",
       "      <th>MonthlyIncome</th>\n",
       "      <th>NumCompaniesWorked</th>\n",
       "      <th>WorkLifeBalance</th>\n",
       "      <th>YearsAtCompany</th>\n",
       "    </tr>\n",
       "  </thead>\n",
       "  <tbody>\n",
       "    <tr>\n",
       "      <th>0</th>\n",
       "      <td>41</td>\n",
       "      <td>Yes</td>\n",
       "      <td>Sales</td>\n",
       "      <td>1</td>\n",
       "      <td>2</td>\n",
       "      <td>Life Sciences</td>\n",
       "      <td>2</td>\n",
       "      <td>4</td>\n",
       "      <td>Single</td>\n",
       "      <td>5993</td>\n",
       "      <td>8</td>\n",
       "      <td>1</td>\n",
       "      <td>6</td>\n",
       "    </tr>\n",
       "    <tr>\n",
       "      <th>1</th>\n",
       "      <td>49</td>\n",
       "      <td>No</td>\n",
       "      <td>Research &amp; Development</td>\n",
       "      <td>8</td>\n",
       "      <td>1</td>\n",
       "      <td>Life Sciences</td>\n",
       "      <td>3</td>\n",
       "      <td>2</td>\n",
       "      <td>Married</td>\n",
       "      <td>5130</td>\n",
       "      <td>1</td>\n",
       "      <td>3</td>\n",
       "      <td>10</td>\n",
       "    </tr>\n",
       "    <tr>\n",
       "      <th>2</th>\n",
       "      <td>37</td>\n",
       "      <td>Yes</td>\n",
       "      <td>Research &amp; Development</td>\n",
       "      <td>2</td>\n",
       "      <td>2</td>\n",
       "      <td>Other</td>\n",
       "      <td>4</td>\n",
       "      <td>3</td>\n",
       "      <td>Single</td>\n",
       "      <td>2090</td>\n",
       "      <td>6</td>\n",
       "      <td>3</td>\n",
       "      <td>0</td>\n",
       "    </tr>\n",
       "    <tr>\n",
       "      <th>3</th>\n",
       "      <td>33</td>\n",
       "      <td>No</td>\n",
       "      <td>Research &amp; Development</td>\n",
       "      <td>3</td>\n",
       "      <td>4</td>\n",
       "      <td>Life Sciences</td>\n",
       "      <td>4</td>\n",
       "      <td>3</td>\n",
       "      <td>Married</td>\n",
       "      <td>2909</td>\n",
       "      <td>1</td>\n",
       "      <td>3</td>\n",
       "      <td>8</td>\n",
       "    </tr>\n",
       "    <tr>\n",
       "      <th>4</th>\n",
       "      <td>27</td>\n",
       "      <td>No</td>\n",
       "      <td>Research &amp; Development</td>\n",
       "      <td>2</td>\n",
       "      <td>1</td>\n",
       "      <td>Medical</td>\n",
       "      <td>1</td>\n",
       "      <td>2</td>\n",
       "      <td>Married</td>\n",
       "      <td>3468</td>\n",
       "      <td>9</td>\n",
       "      <td>3</td>\n",
       "      <td>2</td>\n",
       "    </tr>\n",
       "    <tr>\n",
       "      <th>...</th>\n",
       "      <td>...</td>\n",
       "      <td>...</td>\n",
       "      <td>...</td>\n",
       "      <td>...</td>\n",
       "      <td>...</td>\n",
       "      <td>...</td>\n",
       "      <td>...</td>\n",
       "      <td>...</td>\n",
       "      <td>...</td>\n",
       "      <td>...</td>\n",
       "      <td>...</td>\n",
       "      <td>...</td>\n",
       "      <td>...</td>\n",
       "    </tr>\n",
       "    <tr>\n",
       "      <th>1465</th>\n",
       "      <td>36</td>\n",
       "      <td>No</td>\n",
       "      <td>Research &amp; Development</td>\n",
       "      <td>23</td>\n",
       "      <td>2</td>\n",
       "      <td>Medical</td>\n",
       "      <td>3</td>\n",
       "      <td>4</td>\n",
       "      <td>Married</td>\n",
       "      <td>2571</td>\n",
       "      <td>4</td>\n",
       "      <td>3</td>\n",
       "      <td>5</td>\n",
       "    </tr>\n",
       "    <tr>\n",
       "      <th>1466</th>\n",
       "      <td>39</td>\n",
       "      <td>No</td>\n",
       "      <td>Research &amp; Development</td>\n",
       "      <td>6</td>\n",
       "      <td>1</td>\n",
       "      <td>Medical</td>\n",
       "      <td>4</td>\n",
       "      <td>1</td>\n",
       "      <td>Married</td>\n",
       "      <td>9991</td>\n",
       "      <td>4</td>\n",
       "      <td>3</td>\n",
       "      <td>7</td>\n",
       "    </tr>\n",
       "    <tr>\n",
       "      <th>1467</th>\n",
       "      <td>27</td>\n",
       "      <td>No</td>\n",
       "      <td>Research &amp; Development</td>\n",
       "      <td>4</td>\n",
       "      <td>3</td>\n",
       "      <td>Life Sciences</td>\n",
       "      <td>2</td>\n",
       "      <td>2</td>\n",
       "      <td>Married</td>\n",
       "      <td>6142</td>\n",
       "      <td>1</td>\n",
       "      <td>3</td>\n",
       "      <td>6</td>\n",
       "    </tr>\n",
       "    <tr>\n",
       "      <th>1468</th>\n",
       "      <td>49</td>\n",
       "      <td>No</td>\n",
       "      <td>Sales</td>\n",
       "      <td>2</td>\n",
       "      <td>3</td>\n",
       "      <td>Medical</td>\n",
       "      <td>4</td>\n",
       "      <td>2</td>\n",
       "      <td>Married</td>\n",
       "      <td>5390</td>\n",
       "      <td>2</td>\n",
       "      <td>2</td>\n",
       "      <td>9</td>\n",
       "    </tr>\n",
       "    <tr>\n",
       "      <th>1469</th>\n",
       "      <td>34</td>\n",
       "      <td>No</td>\n",
       "      <td>Research &amp; Development</td>\n",
       "      <td>8</td>\n",
       "      <td>3</td>\n",
       "      <td>Medical</td>\n",
       "      <td>2</td>\n",
       "      <td>3</td>\n",
       "      <td>Married</td>\n",
       "      <td>4404</td>\n",
       "      <td>2</td>\n",
       "      <td>4</td>\n",
       "      <td>4</td>\n",
       "    </tr>\n",
       "  </tbody>\n",
       "</table>\n",
       "<p>1470 rows × 13 columns</p>\n",
       "</div>"
      ],
      "text/plain": [
       "      Age Attrition              Department  DistanceFromHome  Education  \\\n",
       "0      41       Yes                   Sales                 1          2   \n",
       "1      49        No  Research & Development                 8          1   \n",
       "2      37       Yes  Research & Development                 2          2   \n",
       "3      33        No  Research & Development                 3          4   \n",
       "4      27        No  Research & Development                 2          1   \n",
       "...   ...       ...                     ...               ...        ...   \n",
       "1465   36        No  Research & Development                23          2   \n",
       "1466   39        No  Research & Development                 6          1   \n",
       "1467   27        No  Research & Development                 4          3   \n",
       "1468   49        No                   Sales                 2          3   \n",
       "1469   34        No  Research & Development                 8          3   \n",
       "\n",
       "     EducationField  EnvironmentSatisfaction  JobSatisfaction MaritalStatus  \\\n",
       "0     Life Sciences                        2                4        Single   \n",
       "1     Life Sciences                        3                2       Married   \n",
       "2             Other                        4                3        Single   \n",
       "3     Life Sciences                        4                3       Married   \n",
       "4           Medical                        1                2       Married   \n",
       "...             ...                      ...              ...           ...   \n",
       "1465        Medical                        3                4       Married   \n",
       "1466        Medical                        4                1       Married   \n",
       "1467  Life Sciences                        2                2       Married   \n",
       "1468        Medical                        4                2       Married   \n",
       "1469        Medical                        2                3       Married   \n",
       "\n",
       "      MonthlyIncome  NumCompaniesWorked  WorkLifeBalance  YearsAtCompany  \n",
       "0              5993                   8                1               6  \n",
       "1              5130                   1                3              10  \n",
       "2              2090                   6                3               0  \n",
       "3              2909                   1                3               8  \n",
       "4              3468                   9                3               2  \n",
       "...             ...                 ...              ...             ...  \n",
       "1465           2571                   4                3               5  \n",
       "1466           9991                   4                3               7  \n",
       "1467           6142                   1                3               6  \n",
       "1468           5390                   2                2               9  \n",
       "1469           4404                   2                4               4  \n",
       "\n",
       "[1470 rows x 13 columns]"
      ]
     },
     "execution_count": 22,
     "metadata": {},
     "output_type": "execute_result"
    }
   ],
   "source": [
    "data_df = pd.read_csv(\"C:/Users/smrit/OneDrive/Desktop/1576148666_ibmattritiondata/IBM Attrition Data.csv\")\n",
    "data_df"
   ]
  },
  {
   "cell_type": "code",
   "execution_count": 23,
   "id": "bd5fe7fd",
   "metadata": {
    "scrolled": true
   },
   "outputs": [
    {
     "name": "stdout",
     "output_type": "stream",
     "text": [
      "<class 'pandas.core.frame.DataFrame'>\n",
      "RangeIndex: 1470 entries, 0 to 1469\n",
      "Data columns (total 13 columns):\n",
      " #   Column                   Non-Null Count  Dtype \n",
      "---  ------                   --------------  ----- \n",
      " 0   Age                      1470 non-null   int64 \n",
      " 1   Attrition                1470 non-null   object\n",
      " 2   Department               1470 non-null   object\n",
      " 3   DistanceFromHome         1470 non-null   int64 \n",
      " 4   Education                1470 non-null   int64 \n",
      " 5   EducationField           1470 non-null   object\n",
      " 6   EnvironmentSatisfaction  1470 non-null   int64 \n",
      " 7   JobSatisfaction          1470 non-null   int64 \n",
      " 8   MaritalStatus            1470 non-null   object\n",
      " 9   MonthlyIncome            1470 non-null   int64 \n",
      " 10  NumCompaniesWorked       1470 non-null   int64 \n",
      " 11  WorkLifeBalance          1470 non-null   int64 \n",
      " 12  YearsAtCompany           1470 non-null   int64 \n",
      "dtypes: int64(9), object(4)\n",
      "memory usage: 149.4+ KB\n"
     ]
    }
   ],
   "source": [
    "data_df.info()"
   ]
  },
  {
   "cell_type": "code",
   "execution_count": 24,
   "id": "d64ebe47",
   "metadata": {},
   "outputs": [
    {
     "data": {
      "text/html": [
       "<div>\n",
       "<style scoped>\n",
       "    .dataframe tbody tr th:only-of-type {\n",
       "        vertical-align: middle;\n",
       "    }\n",
       "\n",
       "    .dataframe tbody tr th {\n",
       "        vertical-align: top;\n",
       "    }\n",
       "\n",
       "    .dataframe thead th {\n",
       "        text-align: right;\n",
       "    }\n",
       "</style>\n",
       "<table border=\"1\" class=\"dataframe\">\n",
       "  <thead>\n",
       "    <tr style=\"text-align: right;\">\n",
       "      <th></th>\n",
       "      <th>count</th>\n",
       "      <th>mean</th>\n",
       "      <th>std</th>\n",
       "      <th>min</th>\n",
       "      <th>25%</th>\n",
       "      <th>50%</th>\n",
       "      <th>75%</th>\n",
       "      <th>max</th>\n",
       "    </tr>\n",
       "  </thead>\n",
       "  <tbody>\n",
       "    <tr>\n",
       "      <th>Age</th>\n",
       "      <td>1470.0</td>\n",
       "      <td>36.923810</td>\n",
       "      <td>9.135373</td>\n",
       "      <td>18.0</td>\n",
       "      <td>30.0</td>\n",
       "      <td>36.0</td>\n",
       "      <td>43.0</td>\n",
       "      <td>60.0</td>\n",
       "    </tr>\n",
       "    <tr>\n",
       "      <th>DistanceFromHome</th>\n",
       "      <td>1470.0</td>\n",
       "      <td>9.192517</td>\n",
       "      <td>8.106864</td>\n",
       "      <td>1.0</td>\n",
       "      <td>2.0</td>\n",
       "      <td>7.0</td>\n",
       "      <td>14.0</td>\n",
       "      <td>29.0</td>\n",
       "    </tr>\n",
       "    <tr>\n",
       "      <th>Education</th>\n",
       "      <td>1470.0</td>\n",
       "      <td>2.912925</td>\n",
       "      <td>1.024165</td>\n",
       "      <td>1.0</td>\n",
       "      <td>2.0</td>\n",
       "      <td>3.0</td>\n",
       "      <td>4.0</td>\n",
       "      <td>5.0</td>\n",
       "    </tr>\n",
       "    <tr>\n",
       "      <th>EnvironmentSatisfaction</th>\n",
       "      <td>1470.0</td>\n",
       "      <td>2.721769</td>\n",
       "      <td>1.093082</td>\n",
       "      <td>1.0</td>\n",
       "      <td>2.0</td>\n",
       "      <td>3.0</td>\n",
       "      <td>4.0</td>\n",
       "      <td>4.0</td>\n",
       "    </tr>\n",
       "    <tr>\n",
       "      <th>JobSatisfaction</th>\n",
       "      <td>1470.0</td>\n",
       "      <td>2.728571</td>\n",
       "      <td>1.102846</td>\n",
       "      <td>1.0</td>\n",
       "      <td>2.0</td>\n",
       "      <td>3.0</td>\n",
       "      <td>4.0</td>\n",
       "      <td>4.0</td>\n",
       "    </tr>\n",
       "    <tr>\n",
       "      <th>MonthlyIncome</th>\n",
       "      <td>1470.0</td>\n",
       "      <td>6502.931293</td>\n",
       "      <td>4707.956783</td>\n",
       "      <td>1009.0</td>\n",
       "      <td>2911.0</td>\n",
       "      <td>4919.0</td>\n",
       "      <td>8379.0</td>\n",
       "      <td>19999.0</td>\n",
       "    </tr>\n",
       "    <tr>\n",
       "      <th>NumCompaniesWorked</th>\n",
       "      <td>1470.0</td>\n",
       "      <td>2.693197</td>\n",
       "      <td>2.498009</td>\n",
       "      <td>0.0</td>\n",
       "      <td>1.0</td>\n",
       "      <td>2.0</td>\n",
       "      <td>4.0</td>\n",
       "      <td>9.0</td>\n",
       "    </tr>\n",
       "    <tr>\n",
       "      <th>WorkLifeBalance</th>\n",
       "      <td>1470.0</td>\n",
       "      <td>2.761224</td>\n",
       "      <td>0.706476</td>\n",
       "      <td>1.0</td>\n",
       "      <td>2.0</td>\n",
       "      <td>3.0</td>\n",
       "      <td>3.0</td>\n",
       "      <td>4.0</td>\n",
       "    </tr>\n",
       "    <tr>\n",
       "      <th>YearsAtCompany</th>\n",
       "      <td>1470.0</td>\n",
       "      <td>7.008163</td>\n",
       "      <td>6.126525</td>\n",
       "      <td>0.0</td>\n",
       "      <td>3.0</td>\n",
       "      <td>5.0</td>\n",
       "      <td>9.0</td>\n",
       "      <td>40.0</td>\n",
       "    </tr>\n",
       "  </tbody>\n",
       "</table>\n",
       "</div>"
      ],
      "text/plain": [
       "                          count         mean          std     min     25%  \\\n",
       "Age                      1470.0    36.923810     9.135373    18.0    30.0   \n",
       "DistanceFromHome         1470.0     9.192517     8.106864     1.0     2.0   \n",
       "Education                1470.0     2.912925     1.024165     1.0     2.0   \n",
       "EnvironmentSatisfaction  1470.0     2.721769     1.093082     1.0     2.0   \n",
       "JobSatisfaction          1470.0     2.728571     1.102846     1.0     2.0   \n",
       "MonthlyIncome            1470.0  6502.931293  4707.956783  1009.0  2911.0   \n",
       "NumCompaniesWorked       1470.0     2.693197     2.498009     0.0     1.0   \n",
       "WorkLifeBalance          1470.0     2.761224     0.706476     1.0     2.0   \n",
       "YearsAtCompany           1470.0     7.008163     6.126525     0.0     3.0   \n",
       "\n",
       "                            50%     75%      max  \n",
       "Age                        36.0    43.0     60.0  \n",
       "DistanceFromHome            7.0    14.0     29.0  \n",
       "Education                   3.0     4.0      5.0  \n",
       "EnvironmentSatisfaction     3.0     4.0      4.0  \n",
       "JobSatisfaction             3.0     4.0      4.0  \n",
       "MonthlyIncome            4919.0  8379.0  19999.0  \n",
       "NumCompaniesWorked          2.0     4.0      9.0  \n",
       "WorkLifeBalance             3.0     3.0      4.0  \n",
       "YearsAtCompany              5.0     9.0     40.0  "
      ]
     },
     "execution_count": 24,
     "metadata": {},
     "output_type": "execute_result"
    }
   ],
   "source": [
    "data_df.describe().T"
   ]
  },
  {
   "cell_type": "code",
   "execution_count": 25,
   "id": "3bfd8de4",
   "metadata": {},
   "outputs": [
    {
     "data": {
      "text/plain": [
       "Age                        0\n",
       "Attrition                  0\n",
       "Department                 0\n",
       "DistanceFromHome           0\n",
       "Education                  0\n",
       "EducationField             0\n",
       "EnvironmentSatisfaction    0\n",
       "JobSatisfaction            0\n",
       "MaritalStatus              0\n",
       "MonthlyIncome              0\n",
       "NumCompaniesWorked         0\n",
       "WorkLifeBalance            0\n",
       "YearsAtCompany             0\n",
       "dtype: int64"
      ]
     },
     "execution_count": 25,
     "metadata": {},
     "output_type": "execute_result"
    }
   ],
   "source": [
    "data_df.isnull().sum()"
   ]
  },
  {
   "cell_type": "code",
   "execution_count": 26,
   "id": "c8dfc46e",
   "metadata": {},
   "outputs": [],
   "source": [
    "data_df = data_df[['Age','Attrition','Department','DistanceFromHome','Education','EducationField','EnvironmentSatisfaction','JobSatisfaction','MaritalStatus','MonthlyIncome','NumCompaniesWorked','WorkLifeBalance','YearsAtCompany']]"
   ]
  },
  {
   "cell_type": "markdown",
   "id": "9789ca4f",
   "metadata": {},
   "source": [
    "#### Find the age distribution of employees in IBM"
   ]
  },
  {
   "cell_type": "code",
   "execution_count": 28,
   "id": "abb23b61",
   "metadata": {},
   "outputs": [
    {
     "data": {
      "image/png": "[encoded data removed]",
      "text/plain": [
       "<Figure size 800x480 with 1 Axes>"
      ]
     },
     "metadata": {},
     "output_type": "display_data"
    }
   ],
   "source": [
    "# histogram for age\n",
    "\n",
    "plt.figure(figsize=(10,6), dpi=80)\n",
    "sns.histplot(data=data_df, x='Age', bins=42, kde=True).set_title('Age Distribution of Employee');"
   ]
  },
  {
   "cell_type": "markdown",
   "id": "d641cc52",
   "metadata": {},
   "source": [
    "#### Explore attrition by age"
   ]
  },
  {
   "cell_type": "code",
   "execution_count": 70,
   "id": "83167809",
   "metadata": {},
   "outputs": [
    {
     "data": {
      "image/png": "[encoded data removed]",
      "text/plain": [
       "<Figure size 1120x480 with 1 Axes>"
      ]
     },
     "metadata": {},
     "output_type": "display_data"
    }
   ],
   "source": [
    "plt.figure(figsize = (14,6), dpi=80)\n",
    "sns.countplot(data=data_df, x='Age',hue='Attrition', order = data_df['Age'].value_counts().index, palette='seismic_r').set_title('Attrition by Age');"
   ]
  },
  {
   "cell_type": "markdown",
   "id": "2572bf2f",
   "metadata": {},
   "source": [
    "#### Explore data for Left employees"
   ]
  },
  {
   "cell_type": "code",
   "execution_count": 33,
   "id": "f1f3603d",
   "metadata": {},
   "outputs": [
    {
     "name": "stdout",
     "output_type": "stream",
     "text": [
      "Attrition\n",
      "No     1233\n",
      "Yes     237\n",
      "Name: Attrition, dtype: int64\n"
     ]
    },
    {
     "data": {
      "image/png": "[encoded data removed]",
      "text/plain": [
       "<Figure size 400x320 with 1 Axes>"
      ]
     },
     "metadata": {},
     "output_type": "display_data"
    }
   ],
   "source": [
    "print(data_df.groupby('Attrition')['Attrition'].count())\n",
    "\n",
    "plt.figure(figsize=(5,4), dpi=80)\n",
    "sns.countplot(data=data_df, x='Attrition', palette='seismic_r');"
   ]
  },
  {
   "cell_type": "code",
   "execution_count": 34,
   "id": "7ecf3813",
   "metadata": {},
   "outputs": [
    {
     "data": {
      "image/png": "[encoded data removed]",
      "text/plain": [
       "<Figure size 640x400 with 1 Axes>"
      ]
     },
     "metadata": {},
     "output_type": "display_data"
    }
   ],
   "source": [
    "# print(data_df[(data_df['Attrition'] == 'Yes')].groupby('Department')['Attrition'].count().sort_values(ascending=False))\n",
    "\n",
    "plt.figure(figsize=(8,5), dpi=80)\n",
    "sns.countplot(data=data_df[(data_df['Attrition'] == 'Yes')], x='Department', palette='cubehelix', order = data_df['Department']\n",
    "              .value_counts().index).set_title('Attrition by Department');"
   ]
  },
  {
   "cell_type": "code",
   "execution_count": 37,
   "id": "3f4fe163",
   "metadata": {},
   "outputs": [],
   "source": [
    "agerange = []\n",
    "for age in data_df[\"Age\"]:\n",
    "    if age >= 18 and age < 24:\n",
    "        agerange.append(\"18-24\")\n",
    "    elif age >= 25 and age < 31:\n",
    "        agerange.append(\"25-31\")\n",
    "    elif age >= 32 and age < 38:\n",
    "        agerange.append(\"32-38\")\n",
    "    elif age >= 39 and age < 45:\n",
    "        agerange.append(\"39-45\")\n",
    "    elif age >= 46 and age < 52:\n",
    "        agerange.append(\"46-52\")\n",
    "    elif age >= 53 and age < 59:\n",
    "        agerange.append(\"53-59\")\n",
    "    else:\n",
    "        agerange.append(\"60-66\")\n",
    "       \n",
    "data_df[\"AgeRange\"] = agerange"
   ]
  },
  {
   "cell_type": "code",
   "execution_count": 38,
   "id": "a8fbd3b8",
   "metadata": {},
   "outputs": [
    {
     "data": {
      "text/html": [
       "<div>\n",
       "<style scoped>\n",
       "    .dataframe tbody tr th:only-of-type {\n",
       "        vertical-align: middle;\n",
       "    }\n",
       "\n",
       "    .dataframe tbody tr th {\n",
       "        vertical-align: top;\n",
       "    }\n",
       "\n",
       "    .dataframe thead th {\n",
       "        text-align: right;\n",
       "    }\n",
       "</style>\n",
       "<table border=\"1\" class=\"dataframe\">\n",
       "  <thead>\n",
       "    <tr style=\"text-align: right;\">\n",
       "      <th></th>\n",
       "      <th>Age</th>\n",
       "      <th>Attrition</th>\n",
       "      <th>Department</th>\n",
       "      <th>DistanceFromHome</th>\n",
       "      <th>Education</th>\n",
       "      <th>EducationField</th>\n",
       "      <th>EnvironmentSatisfaction</th>\n",
       "      <th>JobSatisfaction</th>\n",
       "      <th>MaritalStatus</th>\n",
       "      <th>MonthlyIncome</th>\n",
       "      <th>NumCompaniesWorked</th>\n",
       "      <th>WorkLifeBalance</th>\n",
       "      <th>YearsAtCompany</th>\n",
       "      <th>AgeRange</th>\n",
       "    </tr>\n",
       "  </thead>\n",
       "  <tbody>\n",
       "    <tr>\n",
       "      <th>0</th>\n",
       "      <td>41</td>\n",
       "      <td>Yes</td>\n",
       "      <td>Sales</td>\n",
       "      <td>1</td>\n",
       "      <td>2</td>\n",
       "      <td>Life Sciences</td>\n",
       "      <td>2</td>\n",
       "      <td>4</td>\n",
       "      <td>Single</td>\n",
       "      <td>5993</td>\n",
       "      <td>8</td>\n",
       "      <td>1</td>\n",
       "      <td>6</td>\n",
       "      <td>39-45</td>\n",
       "    </tr>\n",
       "    <tr>\n",
       "      <th>1</th>\n",
       "      <td>49</td>\n",
       "      <td>No</td>\n",
       "      <td>Research &amp; Development</td>\n",
       "      <td>8</td>\n",
       "      <td>1</td>\n",
       "      <td>Life Sciences</td>\n",
       "      <td>3</td>\n",
       "      <td>2</td>\n",
       "      <td>Married</td>\n",
       "      <td>5130</td>\n",
       "      <td>1</td>\n",
       "      <td>3</td>\n",
       "      <td>10</td>\n",
       "      <td>46-52</td>\n",
       "    </tr>\n",
       "    <tr>\n",
       "      <th>2</th>\n",
       "      <td>37</td>\n",
       "      <td>Yes</td>\n",
       "      <td>Research &amp; Development</td>\n",
       "      <td>2</td>\n",
       "      <td>2</td>\n",
       "      <td>Other</td>\n",
       "      <td>4</td>\n",
       "      <td>3</td>\n",
       "      <td>Single</td>\n",
       "      <td>2090</td>\n",
       "      <td>6</td>\n",
       "      <td>3</td>\n",
       "      <td>0</td>\n",
       "      <td>32-38</td>\n",
       "    </tr>\n",
       "    <tr>\n",
       "      <th>3</th>\n",
       "      <td>33</td>\n",
       "      <td>No</td>\n",
       "      <td>Research &amp; Development</td>\n",
       "      <td>3</td>\n",
       "      <td>4</td>\n",
       "      <td>Life Sciences</td>\n",
       "      <td>4</td>\n",
       "      <td>3</td>\n",
       "      <td>Married</td>\n",
       "      <td>2909</td>\n",
       "      <td>1</td>\n",
       "      <td>3</td>\n",
       "      <td>8</td>\n",
       "      <td>32-38</td>\n",
       "    </tr>\n",
       "    <tr>\n",
       "      <th>4</th>\n",
       "      <td>27</td>\n",
       "      <td>No</td>\n",
       "      <td>Research &amp; Development</td>\n",
       "      <td>2</td>\n",
       "      <td>1</td>\n",
       "      <td>Medical</td>\n",
       "      <td>1</td>\n",
       "      <td>2</td>\n",
       "      <td>Married</td>\n",
       "      <td>3468</td>\n",
       "      <td>9</td>\n",
       "      <td>3</td>\n",
       "      <td>2</td>\n",
       "      <td>25-31</td>\n",
       "    </tr>\n",
       "  </tbody>\n",
       "</table>\n",
       "</div>"
      ],
      "text/plain": [
       "   Age Attrition              Department  DistanceFromHome  Education  \\\n",
       "0   41       Yes                   Sales                 1          2   \n",
       "1   49        No  Research & Development                 8          1   \n",
       "2   37       Yes  Research & Development                 2          2   \n",
       "3   33        No  Research & Development                 3          4   \n",
       "4   27        No  Research & Development                 2          1   \n",
       "\n",
       "  EducationField  EnvironmentSatisfaction  JobSatisfaction MaritalStatus  \\\n",
       "0  Life Sciences                        2                4        Single   \n",
       "1  Life Sciences                        3                2       Married   \n",
       "2          Other                        4                3        Single   \n",
       "3  Life Sciences                        4                3       Married   \n",
       "4        Medical                        1                2       Married   \n",
       "\n",
       "   MonthlyIncome  NumCompaniesWorked  WorkLifeBalance  YearsAtCompany AgeRange  \n",
       "0           5993                   8                1               6    39-45  \n",
       "1           5130                   1                3              10    46-52  \n",
       "2           2090                   6                3               0    32-38  \n",
       "3           2909                   1                3               8    32-38  \n",
       "4           3468                   9                3               2    25-31  "
      ]
     },
     "execution_count": 38,
     "metadata": {},
     "output_type": "execute_result"
    }
   ],
   "source": [
    "data_df.head()"
   ]
  },
  {
   "cell_type": "code",
   "execution_count": 39,
   "id": "9cdca9ad",
   "metadata": {},
   "outputs": [
    {
     "data": {
      "image/png": "[encoded data removed]",
      "text/plain": [
       "<Figure size 640x400 with 1 Axes>"
      ]
     },
     "metadata": {},
     "output_type": "display_data"
    }
   ],
   "source": [
    "# print(data_df[(data_df['Attrition'] == 'Yes')].groupby('AgeRange')['AgeRange'].count().sort_values(ascending=False))\n",
    "\n",
    "plt.figure(figsize=(8,5), dpi=80)\n",
    "sns.countplot(data=data_df[(data_df['Attrition'] == 'Yes')], x='AgeRange', palette='cubehelix').set_title('Attrition by Age Group');"
   ]
  },
  {
   "cell_type": "code",
   "execution_count": 40,
   "id": "fc20c408",
   "metadata": {},
   "outputs": [
    {
     "data": {
      "image/png": "[encoded data removed]",
      "text/plain": [
       "<Figure size 640x400 with 1 Axes>"
      ]
     },
     "metadata": {},
     "output_type": "display_data"
    }
   ],
   "source": [
    "# print(data_df[(data_df['Attrition'] == 'Yes')].groupby('Education')['Attrition'].count().sort_values(ascending=False))\n",
    "\n",
    "plt.figure(figsize=(8,5),dpi=80)\n",
    "sns.countplot(data=data_df[(data_df['Attrition'] == 'Yes')], x='Education', order=data_df['Education'].value_counts().index, \n",
    "              palette='cubehelix').set_title('Attrition by Education');"
   ]
  },
  {
   "cell_type": "markdown",
   "id": "8808a01f",
   "metadata": {},
   "source": [
    "Education:\n",
    "1 - Below College, 2 - College, 3 - Bachelor, 4 - Master, 5 - Doctor"
   ]
  },
  {
   "cell_type": "code",
   "execution_count": 42,
   "id": "2415eb2e",
   "metadata": {},
   "outputs": [
    {
     "data": {
      "image/png": "[encoded data removed]",
      "text/plain": [
       "<Figure size 640x400 with 1 Axes>"
      ]
     },
     "metadata": {},
     "output_type": "display_data"
    }
   ],
   "source": [
    "# print(data_df[(data_df['Attrition'] == 'Yes')].groupby('EnvironmentSatisfaction')['Attrition'].count().sort_values(ascending=False))\n",
    "\n",
    "plt.figure(figsize=(8,5),dpi=80)\n",
    "sns.countplot(data=data_df[(data_df['Attrition'] == 'Yes')], x='EnvironmentSatisfaction', order=data_df['EnvironmentSatisfaction']\n",
    "              .value_counts().index, palette='cubehelix').set_title('Attrition by Environment Satisfaction');"
   ]
  },
  {
   "cell_type": "markdown",
   "id": "68a38ec2",
   "metadata": {},
   "source": [
    "Environment Satisfaction:\n",
    "1 - Low, 2 - Medium, 3 - High, 4 - Very High"
   ]
  },
  {
   "cell_type": "code",
   "execution_count": 43,
   "id": "7f75c49a",
   "metadata": {},
   "outputs": [
    {
     "data": {
      "image/png": "[encoded data removed]",
      "text/plain": [
       "<Figure size 640x400 with 1 Axes>"
      ]
     },
     "metadata": {},
     "output_type": "display_data"
    }
   ],
   "source": [
    "# print(data_df[(data_df['Attrition'] == 'Yes')].groupby('JobSatisfaction')['Attrition'].count().sort_values(ascending=False))\n",
    "\n",
    "plt.figure(figsize=(8,5),dpi=80)\n",
    "sns.countplot(data=data_df[(data_df['Attrition'] == 'Yes')], x='JobSatisfaction', order=data_df['JobSatisfaction'].value_counts().index, palette='cubehelix');"
   ]
  },
  {
   "cell_type": "markdown",
   "id": "0c151f65",
   "metadata": {},
   "source": [
    "Job Satisfaction:\n",
    "\n",
    "\n",
    "1 - Low, 2 - Medium, 3 - High, 4 - Very High"
   ]
  },
  {
   "cell_type": "markdown",
   "id": "d8765319",
   "metadata": {},
   "source": [
    "#### Find out the distribution of employees by the education field"
   ]
  },
  {
   "cell_type": "code",
   "execution_count": 44,
   "id": "f9c8e8f7",
   "metadata": {},
   "outputs": [
    {
     "data": {
      "image/png": "[encoded data removed]",
      "text/plain": [
       "<Figure size 880x480 with 1 Axes>"
      ]
     },
     "metadata": {},
     "output_type": "display_data"
    }
   ],
   "source": [
    "# print(data_df[(data_df['Attrition'] == 'Yes')].groupby('EducationField')['EducationField'].count().sort_values(ascending=False))\n",
    "\n",
    "plt.figure(figsize=(11,6), dpi=80)\n",
    "sns.histplot(data=data_df, x='EducationField').set_title('Attrition by Education Field');"
   ]
  },
  {
   "cell_type": "code",
   "execution_count": 45,
   "id": "b44ffa5f",
   "metadata": {},
   "outputs": [
    {
     "data": {
      "image/png": "[encoded data removed]",
      "text/plain": [
       "<Figure size 880x480 with 1 Axes>"
      ]
     },
     "metadata": {},
     "output_type": "display_data"
    }
   ],
   "source": [
    "plt.figure(figsize=(11,6), dpi=80)\n",
    "sns.countplot(data=data_df, x='EducationField', hue='Attrition', order = data_df['EducationField'].value_counts().index, palette='seismic_r').set_title('Attrition by Education Field');"
   ]
  },
  {
   "cell_type": "markdown",
   "id": "f7612a58",
   "metadata": {},
   "source": [
    "#### Give a bar chart for the number of married and unmarried employees"
   ]
  },
  {
   "cell_type": "code",
   "execution_count": 46,
   "id": "1ed19229",
   "metadata": {},
   "outputs": [
    {
     "data": {
      "image/png": "[encoded data removed]",
      "text/plain": [
       "<Figure size 640x400 with 1 Axes>"
      ]
     },
     "metadata": {},
     "output_type": "display_data"
    }
   ],
   "source": [
    "# print(data_df[(data_df['Attrition'] == 'Yes')].groupby('MaritalStatus')['Attrition'].count().sort_values(ascending=False))\n",
    "\n",
    "plt.figure(figsize=(8,5),dpi=80)\n",
    "sns.countplot(data=data_df, x='MaritalStatus', hue='Attrition', order=data_df['MaritalStatus'].value_counts().index, palette='seismic_r').set_title('Attrition by Marital Status');"
   ]
  },
  {
   "cell_type": "code",
   "execution_count": 49,
   "id": "36ebb8cb",
   "metadata": {},
   "outputs": [
    {
     "data": {
      "text/plain": [
       "Age                         int64\n",
       "Attrition                   int64\n",
       "Department                 object\n",
       "DistanceFromHome            int64\n",
       "Education                   int64\n",
       "EducationField             object\n",
       "EnvironmentSatisfaction     int64\n",
       "JobSatisfaction             int64\n",
       "MaritalStatus              object\n",
       "MonthlyIncome               int64\n",
       "NumCompaniesWorked          int64\n",
       "WorkLifeBalance             int64\n",
       "YearsAtCompany              int64\n",
       "AgeRange                   object\n",
       "dtype: object"
      ]
     },
     "execution_count": 49,
     "metadata": {},
     "output_type": "execute_result"
    }
   ],
   "source": [
    "data_df.dtypes"
   ]
  },
  {
   "cell_type": "code",
   "execution_count": 47,
   "id": "2408f2d0",
   "metadata": {},
   "outputs": [],
   "source": [
    "data_df['Attrition'].replace('Yes', 1, inplace=True)\n",
    "data_df['Attrition'].replace('No', 0, inplace=True)"
   ]
  },
  {
   "cell_type": "code",
   "execution_count": 50,
   "id": "3b405a30",
   "metadata": {},
   "outputs": [],
   "source": [
    "data_df['Department'].replace('Human Resources', 1, inplace=True)\n",
    "data_df['Department'].replace('Research & Development', 2, inplace=True)\n",
    "data_df['Department'].replace('Sales', 3, inplace=True)"
   ]
  },
  {
   "cell_type": "markdown",
   "id": "e5706474",
   "metadata": {},
   "source": []
  },
  {
   "cell_type": "code",
   "execution_count": 51,
   "id": "af881b9a",
   "metadata": {},
   "outputs": [],
   "source": [
    "data_df['EducationField'].replace('Human Resources', 1, inplace=True)\n",
    "data_df['EducationField'].replace('Life Sciences', 2, inplace=True)\n",
    "data_df['EducationField'].replace('Marketing', 3, inplace=True)\n",
    "data_df['EducationField'].replace('Medical', 4, inplace=True)\n",
    "data_df['EducationField'].replace('Other', 5, inplace=True)\n",
    "data_df['EducationField'].replace('Technical Degree', 6, inplace=True)"
   ]
  },
  {
   "cell_type": "code",
   "execution_count": 52,
   "id": "22a0866e",
   "metadata": {},
   "outputs": [],
   "source": [
    "data_df['MaritalStatus'].replace('Divorced', 1, inplace=True)\n",
    "data_df['MaritalStatus'].replace('Married', 2, inplace=True)\n",
    "data_df['MaritalStatus'].replace('Single', 3, inplace=True)"
   ]
  },
  {
   "cell_type": "code",
   "execution_count": 53,
   "id": "ba502b21",
   "metadata": {},
   "outputs": [
    {
     "data": {
      "text/plain": [
       "Age                         int64\n",
       "Attrition                   int64\n",
       "Department                  int64\n",
       "DistanceFromHome            int64\n",
       "Education                   int64\n",
       "EducationField              int64\n",
       "EnvironmentSatisfaction     int64\n",
       "JobSatisfaction             int64\n",
       "MaritalStatus               int64\n",
       "MonthlyIncome               int64\n",
       "NumCompaniesWorked          int64\n",
       "WorkLifeBalance             int64\n",
       "YearsAtCompany              int64\n",
       "AgeRange                   object\n",
       "dtype: object"
      ]
     },
     "execution_count": 53,
     "metadata": {},
     "output_type": "execute_result"
    }
   ],
   "source": [
    "data_df.dtypes"
   ]
  },
  {
   "cell_type": "markdown",
   "id": "b14417ef",
   "metadata": {},
   "source": [
    "#### Build up a logistic regression model to predict which employees are likely to attrite."
   ]
  },
  {
   "cell_type": "code",
   "execution_count": 54,
   "id": "5abaeee7",
   "metadata": {},
   "outputs": [],
   "source": [
    "x = data_df.drop(['Attrition', 'AgeRange', 'DistanceFromHome', 'NumCompaniesWorked', 'WorkLifeBalance'], axis=1)"
   ]
  },
  {
   "cell_type": "code",
   "execution_count": 55,
   "id": "de754bab",
   "metadata": {},
   "outputs": [],
   "source": [
    "y = data_df[['Attrition']]"
   ]
  },
  {
   "cell_type": "code",
   "execution_count": 56,
   "id": "fa1af88b",
   "metadata": {},
   "outputs": [],
   "source": [
    "from sklearn.model_selection import train_test_split\n",
    "x_train, x_test, y_train, y_test = train_test_split(x, y, test_size=0.2)"
   ]
  },
  {
   "cell_type": "code",
   "execution_count": 57,
   "id": "3914fdbd",
   "metadata": {},
   "outputs": [],
   "source": [
    "from sklearn.preprocessing import StandardScaler\n",
    "sc = StandardScaler()\n",
    "x_train = sc.fit_transform(x_train)\n",
    "x_test = sc.fit_transform(x_test)"
   ]
  },
  {
   "cell_type": "markdown",
   "id": "65f96969",
   "metadata": {},
   "source": [
    "#### Logistic Regression"
   ]
  },
  {
   "cell_type": "code",
   "execution_count": 58,
   "id": "d0cd17bf",
   "metadata": {},
   "outputs": [
    {
     "name": "stderr",
     "output_type": "stream",
     "text": [
      "C:\\Users\\smrit\\miniconda3\\lib\\site-packages\\sklearn\\utils\\validation.py:1141: DataConversionWarning: A column-vector y was passed when a 1d array was expected. Please change the shape of y to (n_samples, ), for example using ravel().\n",
      "  y = column_or_1d(y, warn=True)\n"
     ]
    },
    {
     "name": "stdout",
     "output_type": "stream",
     "text": [
      "Accuracy = 84.8639455782313 %\n"
     ]
    }
   ],
   "source": [
    "from sklearn.linear_model import LogisticRegression\n",
    "lr = LogisticRegression()\n",
    "lr = lr.fit(x_train, y_train)\n",
    "\n",
    "# check the accuracy on the training set\n",
    "print('Accuracy =', lr.score(x_train, y_train)*100,'%');"
   ]
  },
  {
   "cell_type": "code",
   "execution_count": 59,
   "id": "c049c757",
   "metadata": {},
   "outputs": [],
   "source": [
    "lr_y_pred = lr.predict(x_test)"
   ]
  },
  {
   "cell_type": "code",
   "execution_count": 60,
   "id": "fdb83d96",
   "metadata": {},
   "outputs": [
    {
     "data": {
      "text/html": [
       "<div>\n",
       "<style scoped>\n",
       "    .dataframe tbody tr th:only-of-type {\n",
       "        vertical-align: middle;\n",
       "    }\n",
       "\n",
       "    .dataframe tbody tr th {\n",
       "        vertical-align: top;\n",
       "    }\n",
       "\n",
       "    .dataframe thead th {\n",
       "        text-align: right;\n",
       "    }\n",
       "</style>\n",
       "<table border=\"1\" class=\"dataframe\">\n",
       "  <thead>\n",
       "    <tr style=\"text-align: right;\">\n",
       "      <th></th>\n",
       "      <th>0</th>\n",
       "    </tr>\n",
       "  </thead>\n",
       "  <tbody>\n",
       "    <tr>\n",
       "      <th>0</th>\n",
       "      <td>0</td>\n",
       "    </tr>\n",
       "    <tr>\n",
       "      <th>1</th>\n",
       "      <td>0</td>\n",
       "    </tr>\n",
       "    <tr>\n",
       "      <th>2</th>\n",
       "      <td>0</td>\n",
       "    </tr>\n",
       "    <tr>\n",
       "      <th>3</th>\n",
       "      <td>0</td>\n",
       "    </tr>\n",
       "    <tr>\n",
       "      <th>4</th>\n",
       "      <td>0</td>\n",
       "    </tr>\n",
       "  </tbody>\n",
       "</table>\n",
       "</div>"
      ],
      "text/plain": [
       "   0\n",
       "0  0\n",
       "1  0\n",
       "2  0\n",
       "3  0\n",
       "4  0"
      ]
     },
     "execution_count": 60,
     "metadata": {},
     "output_type": "execute_result"
    }
   ],
   "source": [
    "pd.DataFrame(lr_y_pred).head()"
   ]
  },
  {
   "cell_type": "code",
   "execution_count": 61,
   "id": "06396fee",
   "metadata": {},
   "outputs": [
    {
     "name": "stdout",
     "output_type": "stream",
     "text": [
      "[[0.64401871 0.35598129]\n",
      " [0.87568542 0.12431458]\n",
      " [0.83725262 0.16274738]\n",
      " [0.74407114 0.25592886]\n",
      " [0.92050452 0.07949548]\n",
      " [0.94351006 0.05648994]\n",
      " [0.79969895 0.20030105]\n",
      " [0.86214789 0.13785211]\n",
      " [0.98244925 0.01755075]\n",
      " [0.7383701  0.2616299 ]\n",
      " [0.92048016 0.07951984]\n",
      " [0.6302705  0.3697295 ]\n",
      " [0.75003248 0.24996752]\n",
      " [0.94206765 0.05793235]\n",
      " [0.95126831 0.04873169]\n",
      " [0.80208465 0.19791535]\n",
      " [0.98220882 0.01779118]\n",
      " [0.94677249 0.05322751]\n",
      " [0.57393254 0.42606746]\n",
      " [0.89169325 0.10830675]\n",
      " [0.79289085 0.20710915]\n",
      " [0.979896   0.020104  ]\n",
      " [0.63351181 0.36648819]\n",
      " [0.95926839 0.04073161]\n",
      " [0.99469412 0.00530588]\n",
      " [0.88853801 0.11146199]\n",
      " [0.77058581 0.22941419]\n",
      " [0.90518476 0.09481524]\n",
      " [0.86080944 0.13919056]\n",
      " [0.89500823 0.10499177]\n",
      " [0.83884417 0.16115583]\n",
      " [0.91470106 0.08529894]\n",
      " [0.61869563 0.38130437]\n",
      " [0.90428174 0.09571826]\n",
      " [0.82548204 0.17451796]\n",
      " [0.88462203 0.11537797]\n",
      " [0.9618798  0.0381202 ]\n",
      " [0.90966695 0.09033305]\n",
      " [0.87994337 0.12005663]\n",
      " [0.9256763  0.0743237 ]\n",
      " [0.75197014 0.24802986]\n",
      " [0.65371528 0.34628472]\n",
      " [0.59641861 0.40358139]\n",
      " [0.80699199 0.19300801]\n",
      " [0.81470421 0.18529579]\n",
      " [0.95014872 0.04985128]\n",
      " [0.87914166 0.12085834]\n",
      " [0.89916668 0.10083332]\n",
      " [0.93053995 0.06946005]\n",
      " [0.75428533 0.24571467]\n",
      " [0.73262891 0.26737109]\n",
      " [0.95782271 0.04217729]\n",
      " [0.91195625 0.08804375]\n",
      " [0.80817224 0.19182776]\n",
      " [0.93928329 0.06071671]\n",
      " [0.92995061 0.07004939]\n",
      " [0.91105304 0.08894696]\n",
      " [0.61928036 0.38071964]\n",
      " [0.81642735 0.18357265]\n",
      " [0.86594264 0.13405736]\n",
      " [0.90247496 0.09752504]\n",
      " [0.89383921 0.10616079]\n",
      " [0.85071655 0.14928345]\n",
      " [0.88496436 0.11503564]\n",
      " [0.92684417 0.07315583]\n",
      " [0.72025228 0.27974772]\n",
      " [0.889707   0.110293  ]\n",
      " [0.74466004 0.25533996]\n",
      " [0.68607389 0.31392611]\n",
      " [0.96955915 0.03044085]\n",
      " [0.45893563 0.54106437]\n",
      " [0.84669739 0.15330261]\n",
      " [0.91806368 0.08193632]\n",
      " [0.78003191 0.21996809]\n",
      " [0.85121116 0.14878884]\n",
      " [0.94378488 0.05621512]\n",
      " [0.66905602 0.33094398]\n",
      " [0.74629621 0.25370379]\n",
      " [0.89364231 0.10635769]\n",
      " [0.98598838 0.01401162]\n",
      " [0.98402735 0.01597265]\n",
      " [0.54206362 0.45793638]\n",
      " [0.97518344 0.02481656]\n",
      " [0.77549821 0.22450179]\n",
      " [0.69315473 0.30684527]\n",
      " [0.94428221 0.05571779]\n",
      " [0.88680847 0.11319153]\n",
      " [0.717385   0.282615  ]\n",
      " [0.5708616  0.4291384 ]\n",
      " [0.88539978 0.11460022]\n",
      " [0.82853941 0.17146059]\n",
      " [0.97620451 0.02379549]\n",
      " [0.87433577 0.12566423]\n",
      " [0.74757323 0.25242677]\n",
      " [0.77899582 0.22100418]\n",
      " [0.6289989  0.3710011 ]\n",
      " [0.99586323 0.00413677]\n",
      " [0.96645378 0.03354622]\n",
      " [0.71997724 0.28002276]\n",
      " [0.88871537 0.11128463]\n",
      " [0.97514068 0.02485932]\n",
      " [0.72796457 0.27203543]\n",
      " [0.98487881 0.01512119]\n",
      " [0.90415977 0.09584023]\n",
      " [0.8499101  0.1500899 ]\n",
      " [0.99249875 0.00750125]\n",
      " [0.97946062 0.02053938]\n",
      " [0.48820705 0.51179295]\n",
      " [0.69717484 0.30282516]\n",
      " [0.95440841 0.04559159]\n",
      " [0.90795336 0.09204664]\n",
      " [0.80473727 0.19526273]\n",
      " [0.87732448 0.12267552]\n",
      " [0.70522694 0.29477306]\n",
      " [0.9356087  0.0643913 ]\n",
      " [0.83427899 0.16572101]\n",
      " [0.87293667 0.12706333]\n",
      " [0.7351256  0.2648744 ]\n",
      " [0.89208167 0.10791833]\n",
      " [0.83331655 0.16668345]\n",
      " [0.64321939 0.35678061]\n",
      " [0.8741049  0.1258951 ]\n",
      " [0.85575193 0.14424807]\n",
      " [0.82265372 0.17734628]\n",
      " [0.75541256 0.24458744]\n",
      " [0.68876566 0.31123434]\n",
      " [0.81434266 0.18565734]\n",
      " [0.87843447 0.12156553]\n",
      " [0.94069048 0.05930952]\n",
      " [0.88345868 0.11654132]\n",
      " [0.981367   0.018633  ]\n",
      " [0.91394194 0.08605806]\n",
      " [0.84710266 0.15289734]\n",
      " [0.80620352 0.19379648]\n",
      " [0.93609039 0.06390961]\n",
      " [0.95091235 0.04908765]\n",
      " [0.80884369 0.19115631]\n",
      " [0.9751083  0.0248917 ]\n",
      " [0.85459677 0.14540323]\n",
      " [0.97291403 0.02708597]\n",
      " [0.82580105 0.17419895]\n",
      " [0.69429801 0.30570199]\n",
      " [0.9202902  0.0797098 ]\n",
      " [0.85492945 0.14507055]\n",
      " [0.84948768 0.15051232]\n",
      " [0.97747997 0.02252003]\n",
      " [0.80228359 0.19771641]\n",
      " [0.91783156 0.08216844]\n",
      " [0.98785398 0.01214602]\n",
      " [0.8502858  0.1497142 ]\n",
      " [0.85563464 0.14436536]\n",
      " [0.81210015 0.18789985]\n",
      " [0.79541605 0.20458395]\n",
      " [0.63244099 0.36755901]\n",
      " [0.890633   0.109367  ]\n",
      " [0.64667028 0.35332972]\n",
      " [0.96592693 0.03407307]\n",
      " [0.85061505 0.14938495]\n",
      " [0.88888614 0.11111386]\n",
      " [0.90026819 0.09973181]\n",
      " [0.94982151 0.05017849]\n",
      " [0.58207837 0.41792163]\n",
      " [0.7895251  0.2104749 ]\n",
      " [0.93950226 0.06049774]\n",
      " [0.76858508 0.23141492]\n",
      " [0.87519103 0.12480897]\n",
      " [0.78843131 0.21156869]\n",
      " [0.78044435 0.21955565]\n",
      " [0.84487429 0.15512571]\n",
      " [0.8732256  0.1267744 ]\n",
      " [0.99504338 0.00495662]\n",
      " [0.59757609 0.40242391]\n",
      " [0.84040222 0.15959778]\n",
      " [0.81416427 0.18583573]\n",
      " [0.88172733 0.11827267]\n",
      " [0.80524938 0.19475062]\n",
      " [0.59454072 0.40545928]\n",
      " [0.90751561 0.09248439]\n",
      " [0.90762618 0.09237382]\n",
      " [0.91191219 0.08808781]\n",
      " [0.93956905 0.06043095]\n",
      " [0.78025985 0.21974015]\n",
      " [0.95337825 0.04662175]\n",
      " [0.92963866 0.07036134]\n",
      " [0.97594789 0.02405211]\n",
      " [0.88448456 0.11551544]\n",
      " [0.93740714 0.06259286]\n",
      " [0.76642833 0.23357167]\n",
      " [0.91020085 0.08979915]\n",
      " [0.89005367 0.10994633]\n",
      " [0.85732679 0.14267321]\n",
      " [0.81920502 0.18079498]\n",
      " [0.79491632 0.20508368]\n",
      " [0.81787324 0.18212676]\n",
      " [0.82063273 0.17936727]\n",
      " [0.99526314 0.00473686]\n",
      " [0.96715197 0.03284803]\n",
      " [0.83749024 0.16250976]\n",
      " [0.98022232 0.01977768]\n",
      " [0.72699553 0.27300447]\n",
      " [0.97265948 0.02734052]\n",
      " [0.95256924 0.04743076]\n",
      " [0.89970131 0.10029869]\n",
      " [0.50025141 0.49974859]\n",
      " [0.87275248 0.12724752]\n",
      " [0.82172161 0.17827839]\n",
      " [0.51863644 0.48136356]\n",
      " [0.94582392 0.05417608]\n",
      " [0.92368982 0.07631018]\n",
      " [0.81170438 0.18829562]\n",
      " [0.75457733 0.24542267]\n",
      " [0.86487716 0.13512284]\n",
      " [0.77434381 0.22565619]\n",
      " [0.95152317 0.04847683]\n",
      " [0.74207214 0.25792786]\n",
      " [0.63100766 0.36899234]\n",
      " [0.66501662 0.33498338]\n",
      " [0.88031815 0.11968185]\n",
      " [0.9777894  0.0222106 ]\n",
      " [0.97862824 0.02137176]\n",
      " [0.77961973 0.22038027]\n",
      " [0.87096879 0.12903121]\n",
      " [0.80338625 0.19661375]\n",
      " [0.93674987 0.06325013]\n",
      " [0.88799627 0.11200373]\n",
      " [0.94123178 0.05876822]\n",
      " [0.79329866 0.20670134]\n",
      " [0.7480598  0.2519402 ]\n",
      " [0.91084121 0.08915879]\n",
      " [0.79279597 0.20720403]\n",
      " [0.79244405 0.20755595]\n",
      " [0.60361839 0.39638161]\n",
      " [0.8074738  0.1925262 ]\n",
      " [0.9799082  0.0200918 ]\n",
      " [0.95278409 0.04721591]\n",
      " [0.71585156 0.28414844]\n",
      " [0.8938079  0.1061921 ]\n",
      " [0.82588284 0.17411716]\n",
      " [0.61693433 0.38306567]\n",
      " [0.90416731 0.09583269]\n",
      " [0.66092609 0.33907391]\n",
      " [0.81856949 0.18143051]\n",
      " [0.93356507 0.06643493]\n",
      " [0.94990098 0.05009902]\n",
      " [0.97761955 0.02238045]\n",
      " [0.82679782 0.17320218]\n",
      " [0.86385603 0.13614397]\n",
      " [0.77808778 0.22191222]\n",
      " [0.87034776 0.12965224]\n",
      " [0.97445405 0.02554595]\n",
      " [0.97807331 0.02192669]\n",
      " [0.8009145  0.1990855 ]\n",
      " [0.84708284 0.15291716]\n",
      " [0.82547768 0.17452232]\n",
      " [0.91718007 0.08281993]\n",
      " [0.85869279 0.14130721]\n",
      " [0.84429276 0.15570724]\n",
      " [0.83573288 0.16426712]\n",
      " [0.77596492 0.22403508]\n",
      " [0.88124033 0.11875967]\n",
      " [0.96048287 0.03951713]\n",
      " [0.96993558 0.03006442]\n",
      " [0.77895171 0.22104829]\n",
      " [0.57252026 0.42747974]\n",
      " [0.92626356 0.07373644]\n",
      " [0.84747576 0.15252424]\n",
      " [0.38126591 0.61873409]\n",
      " [0.7989899  0.2010101 ]\n",
      " [0.919446   0.080554  ]\n",
      " [0.99544246 0.00455754]\n",
      " [0.96115651 0.03884349]\n",
      " [0.76232025 0.23767975]\n",
      " [0.90131268 0.09868732]\n",
      " [0.8217219  0.1782781 ]\n",
      " [0.89465192 0.10534808]\n",
      " [0.94385809 0.05614191]\n",
      " [0.95368753 0.04631247]\n",
      " [0.82514144 0.17485856]\n",
      " [0.73645863 0.26354137]\n",
      " [0.83531807 0.16468193]\n",
      " [0.97297734 0.02702266]\n",
      " [0.79958724 0.20041276]\n",
      " [0.7720329  0.2279671 ]\n",
      " [0.8202493  0.1797507 ]\n",
      " [0.93843833 0.06156167]\n",
      " [0.92173795 0.07826205]\n",
      " [0.89762886 0.10237114]\n",
      " [0.92547207 0.07452793]\n",
      " [0.94379778 0.05620222]\n",
      " [0.73753139 0.26246861]\n",
      " [0.95681876 0.04318124]\n",
      " [0.75400463 0.24599537]\n",
      " [0.58199762 0.41800238]\n",
      " [0.78835113 0.21164887]]\n"
     ]
    }
   ],
   "source": [
    "prob = lr.predict_proba(x_test)\n",
    "print(prob)"
   ]
  },
  {
   "cell_type": "code",
   "execution_count": 62,
   "id": "92fa48de",
   "metadata": {},
   "outputs": [
    {
     "name": "stdout",
     "output_type": "stream",
     "text": [
      "Test Accuracy Score: 82.99319727891157 %\n",
      "\n",
      "----------------------Classification Report----------------------\n",
      "               precision    recall  f1-score   support\n",
      "\n",
      "           0       0.83      1.00      0.91       243\n",
      "           1       0.67      0.04      0.07        51\n",
      "\n",
      "    accuracy                           0.83       294\n",
      "   macro avg       0.75      0.52      0.49       294\n",
      "weighted avg       0.80      0.83      0.76       294\n",
      "\n",
      "----------------------Confusion Matrix----------------------\n",
      " [[242   1]\n",
      " [ 49   2]]\n"
     ]
    }
   ],
   "source": [
    "from sklearn.metrics import accuracy_score, confusion_matrix, classification_report\n",
    "\n",
    "print('Test Accuracy Score:', accuracy_score(y_test, lr_y_pred)*100, '%\\n')\n",
    "\n",
    "print('----------------------Classification Report----------------------\\n', classification_report(y_test, lr_y_pred))\n",
    "print('----------------------Confusion Matrix----------------------\\n', confusion_matrix(y_test, lr_y_pred))"
   ]
  },
  {
   "cell_type": "code",
   "execution_count": 63,
   "id": "93e6997a",
   "metadata": {},
   "outputs": [
    {
     "data": {
      "text/html": [
       "<div>\n",
       "<style scoped>\n",
       "    .dataframe tbody tr th:only-of-type {\n",
       "        vertical-align: middle;\n",
       "    }\n",
       "\n",
       "    .dataframe tbody tr th {\n",
       "        vertical-align: top;\n",
       "    }\n",
       "\n",
       "    .dataframe thead th {\n",
       "        text-align: right;\n",
       "    }\n",
       "</style>\n",
       "<table border=\"1\" class=\"dataframe\">\n",
       "  <thead>\n",
       "    <tr style=\"text-align: right;\">\n",
       "      <th></th>\n",
       "      <th>0</th>\n",
       "      <th>1</th>\n",
       "      <th>2</th>\n",
       "      <th>3</th>\n",
       "      <th>4</th>\n",
       "      <th>5</th>\n",
       "      <th>6</th>\n",
       "      <th>7</th>\n",
       "      <th>8</th>\n",
       "    </tr>\n",
       "  </thead>\n",
       "  <tbody>\n",
       "    <tr>\n",
       "      <th>0</th>\n",
       "      <td>-0.418729</td>\n",
       "      <td>-0.49217</td>\n",
       "      <td>1.064028</td>\n",
       "      <td>-0.941634</td>\n",
       "      <td>1.171567</td>\n",
       "      <td>-1.567761</td>\n",
       "      <td>-0.135583</td>\n",
       "      <td>-0.719756</td>\n",
       "      <td>0.479707</td>\n",
       "    </tr>\n",
       "    <tr>\n",
       "      <th>1</th>\n",
       "      <td>2.463546</td>\n",
       "      <td>-0.49217</td>\n",
       "      <td>1.064028</td>\n",
       "      <td>0.578423</td>\n",
       "      <td>1.171567</td>\n",
       "      <td>1.158243</td>\n",
       "      <td>1.250902</td>\n",
       "      <td>0.835932</td>\n",
       "      <td>0.316237</td>\n",
       "    </tr>\n",
       "    <tr>\n",
       "      <th>2</th>\n",
       "      <td>1.354979</td>\n",
       "      <td>-0.49217</td>\n",
       "      <td>1.064028</td>\n",
       "      <td>0.578423</td>\n",
       "      <td>0.258537</td>\n",
       "      <td>-1.567761</td>\n",
       "      <td>-0.135583</td>\n",
       "      <td>0.003093</td>\n",
       "      <td>1.297057</td>\n",
       "    </tr>\n",
       "    <tr>\n",
       "      <th>3</th>\n",
       "      <td>-0.197016</td>\n",
       "      <td>-0.49217</td>\n",
       "      <td>-0.904968</td>\n",
       "      <td>1.338452</td>\n",
       "      <td>-1.567524</td>\n",
       "      <td>1.158243</td>\n",
       "      <td>1.250902</td>\n",
       "      <td>-0.606178</td>\n",
       "      <td>-0.664583</td>\n",
       "    </tr>\n",
       "    <tr>\n",
       "      <th>4</th>\n",
       "      <td>-0.086159</td>\n",
       "      <td>-0.49217</td>\n",
       "      <td>0.079530</td>\n",
       "      <td>1.338452</td>\n",
       "      <td>0.258537</td>\n",
       "      <td>-0.659093</td>\n",
       "      <td>-0.135583</td>\n",
       "      <td>-0.279586</td>\n",
       "      <td>0.316237</td>\n",
       "    </tr>\n",
       "  </tbody>\n",
       "</table>\n",
       "</div>"
      ],
      "text/plain": [
       "          0        1         2         3         4         5         6  \\\n",
       "0 -0.418729 -0.49217  1.064028 -0.941634  1.171567 -1.567761 -0.135583   \n",
       "1  2.463546 -0.49217  1.064028  0.578423  1.171567  1.158243  1.250902   \n",
       "2  1.354979 -0.49217  1.064028  0.578423  0.258537 -1.567761 -0.135583   \n",
       "3 -0.197016 -0.49217 -0.904968  1.338452 -1.567524  1.158243  1.250902   \n",
       "4 -0.086159 -0.49217  0.079530  1.338452  0.258537 -0.659093 -0.135583   \n",
       "\n",
       "          7         8  \n",
       "0 -0.719756  0.479707  \n",
       "1  0.835932  0.316237  \n",
       "2  0.003093  1.297057  \n",
       "3 -0.606178 -0.664583  \n",
       "4 -0.279586  0.316237  "
      ]
     },
     "execution_count": 63,
     "metadata": {},
     "output_type": "execute_result"
    }
   ],
   "source": [
    "# add random values to check the proabily of attrition of the employee\n",
    "\n",
    "pd.DataFrame(x_train).head()"
   ]
  },
  {
   "cell_type": "code",
   "execution_count": 65,
   "id": "3b38cee2",
   "metadata": {},
   "outputs": [
    {
     "name": "stdout",
     "output_type": "stream",
     "text": [
      "[[0.91030418 0.08969582]]\n"
     ]
    }
   ],
   "source": [
    "input = [[-0.657246, 0.813029, -0.503547, -0.878027, -0.909680, 1.161409, -1.560113, -0.144032, -0.908062]]\n",
    "print(lr.predict_proba(input))"
   ]
  },
  {
   "cell_type": "code",
   "execution_count": null,
   "id": "5a35150a",
   "metadata": {},
   "outputs": [],
   "source": []
  },
  {
   "cell_type": "code",
   "execution_count": null,
   "id": "98ea51c3",
   "metadata": {},
   "outputs": [],
   "source": []
  },
  {
   "cell_type": "code",
   "execution_count": null,
   "id": "43fead3a",
   "metadata": {},
   "outputs": [],
   "source": []
  },
  {
   "cell_type": "code",
   "execution_count": null,
   "id": "03744d76",
   "metadata": {},
   "outputs": [],
   "source": []
  }
 ],
 "metadata": {
  "kernelspec": {
   "display_name": "Python 3 (ipykernel)",
   "language": "python",
   "name": "python3"
  },
  "language_info": {
   "codemirror_mode": {
    "name": "ipython",
    "version": 3
   },
   "file_extension": ".py",
   "mimetype": "text/x-python",
   "name": "python",
   "nbconvert_exporter": "python",
   "pygments_lexer": "ipython3",
   "version": "3.9.12"
  }
 },
 "nbformat": 4,
 "nbformat_minor": 5
}
